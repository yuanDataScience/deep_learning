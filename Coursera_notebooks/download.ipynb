{
 "cells": [
  {
   "cell_type": "code",
   "execution_count": 1,
   "id": "a0fc3254",
   "metadata": {},
   "outputs": [],
   "source": [
    "# pack all folders and files in notebook.tar.gz by tracing symbolic links\n",
    "!tar chvfz allfiles.tar.gz *"
   ]
  },
  {
   "cell_type": "code",
   "execution_count": 2,
   "id": "c47e5f4b",
   "metadata": {},
   "outputs": [],
   "source": [
    "# split the .gz file into separate files with each file's maximum size as 50 MB\n",
    "!split -b 50m allfiles.tar.gz allfiles.tar.gz.part."
   ]
  },
  {
   "cell_type": "code",
   "execution_count": null,
   "id": "3bcba7b0",
   "metadata": {},
   "outputs": [],
   "source": []
  }
 ],
 "metadata": {
  "kernelspec": {
   "display_name": "Python 3 (ipykernel)",
   "language": "python",
   "name": "python3"
  },
  "language_info": {
   "codemirror_mode": {
    "name": "ipython",
    "version": 3
   },
   "file_extension": ".py",
   "mimetype": "text/x-python",
   "name": "python",
   "nbconvert_exporter": "python",
   "pygments_lexer": "ipython3",
   "version": "3.10.4"
  }
 },
 "nbformat": 4,
 "nbformat_minor": 5
}
